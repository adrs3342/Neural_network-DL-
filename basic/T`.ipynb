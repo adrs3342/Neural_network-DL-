{
 "cells": [
  {
   "cell_type": "code",
   "execution_count": 8,
   "id": "db6ad32c-155f-41cd-a2d9-a506ce9b6c9a",
   "metadata": {},
   "outputs": [],
   "source": [
    "import os \n",
    "import numpy as np\n",
    "import pandas as pd\n",
    "import matplotlib.pyplot as plt\n",
    "from sklearn.model_selection import train_test_split\n",
    "from sklearn.metrics import accuracy_score\n",
    "\n",
    "import tensorflow as tf\n",
    "from utils.helper import fn_plot_tf_hist"
   ]
  },
  {
   "cell_type": "code",
   "execution_count": 14,
   "id": "b95f6709-71c7-4340-90ff-4c8700934210",
   "metadata": {},
   "outputs": [
    {
     "ename": "AttributeError",
     "evalue": "module 'tensorflow._api.v2.random' has no attribute 'seed'",
     "output_type": "error",
     "traceback": [
      "\u001b[1;31m---------------------------------------------------------------------------\u001b[0m",
      "\u001b[1;31mAttributeError\u001b[0m                            Traceback (most recent call last)",
      "Cell \u001b[1;32mIn[14], line 4\u001b[0m\n\u001b[0;32m      2\u001b[0m RANDOM_STATE \u001b[38;5;241m=\u001b[39m \u001b[38;5;241m24\u001b[39m\n\u001b[0;32m      3\u001b[0m \u001b[38;5;66;03m# np.random.RandomState(seed = RANDOM_STATE)\u001b[39;00m\n\u001b[1;32m----> 4\u001b[0m \u001b[43mtf\u001b[49m\u001b[38;5;241;43m.\u001b[39;49m\u001b[43mrandom\u001b[49m\u001b[38;5;241;43m.\u001b[39;49m\u001b[43mseed\u001b[49m(RANDOM_STATE)\n\u001b[0;32m      5\u001b[0m rng\u001b[38;5;241m=\u001b[39m np\u001b[38;5;241m.\u001b[39mrandom\u001b[38;5;241m.\u001b[39mdefault_rng(seed\u001b[38;5;241m=\u001b[39m RANDOM_STATE)\n\u001b[0;32m      8\u001b[0m N_SAMPLE\u001b[38;5;241m=\u001b[39m \u001b[38;5;241m1000\u001b[39m\n",
      "\u001b[1;31mAttributeError\u001b[0m: module 'tensorflow._api.v2.random' has no attribute 'seed'"
     ]
    }
   ],
   "source": [
    "##-----------------\n",
    "RANDOM_STATE = 24\n",
    "# np.random.RandomState(seed = RANDOM_STATE)\n",
    "tf.random.seed(RANDOM_STATE)\n",
    "rng= np.random.default_rng(seed= RANDOM_STATE)\n",
    "\n",
    "\n",
    "N_SAMPLE= 1000\n",
    "NOISE = 0.2\n",
    "ALPHA = 0.1\n",
    "TEST_SIZE= 0.2\n",
    "EPOCHS= 2000\n",
    "# input and output directories\n",
    "\n",
    "params = {'legend.fontsize' : 'medium', \n",
    "          'figure.figsize' : (15, 4),\n",
    "          'axes.labelsize' : 'medium',\n",
    "          'axes.titlesize' : 'large',\n",
    "          'xtick.labelsize' : 'medium',\n",
    "          'ytick.labelsize' : 'medium',\n",
    "         }\n",
    "\n",
    "\n",
    "plt.rcParams.update(params)\n",
    "\n",
    "CMAP = plt.cm.coolwarm\n",
    "\n",
    "# plt.style.use('seaborn-v0_8-darkgrid')\n",
    "plt.style.use('ggplot')"
   ]
  },
  {
   "cell_type": "code",
   "execution_count": null,
   "id": "60582bd6-edb9-4b4c-baf4-ea5fa0da9a12",
   "metadata": {},
   "outputs": [],
   "source": []
  }
 ],
 "metadata": {
  "kernelspec": {
   "display_name": "Python 3 (ipykernel)",
   "language": "python",
   "name": "python3"
  },
  "language_info": {
   "codemirror_mode": {
    "name": "ipython",
    "version": 3
   },
   "file_extension": ".py",
   "mimetype": "text/x-python",
   "name": "python",
   "nbconvert_exporter": "python",
   "pygments_lexer": "ipython3",
   "version": "3.12.3"
  }
 },
 "nbformat": 4,
 "nbformat_minor": 5
}
