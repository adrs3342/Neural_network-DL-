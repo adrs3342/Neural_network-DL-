{
 "cells": [
  {
   "cell_type": "code",
   "execution_count": 1,
   "id": "a2e75ead",
   "metadata": {},
   "outputs": [],
   "source": [
    "#!/usr/bin/env python\n",
    "# -*- coding: utf-8 -*-"
   ]
  },
  {
   "cell_type": "markdown",
   "id": "ed5484d0",
   "metadata": {},
   "source": [
    "Your Name and PRN:\n",
    "- Name: ______________________\n",
    "- PRN : ______________________\n",
    "- Date: ______________________"
   ]
  },
  {
   "cell_type": "markdown",
   "id": "62893468",
   "metadata": {},
   "source": [
    "# Image Processing with Neural Network\n",
    "\n",
    "## Assignment A06 : \n",
    "## Working with PyTorch\n",
    "- Custom DataSet with common transformation\n",
    "- Activation function of your choice\n",
    "- Regularization:\n",
    "    - L2, \n",
    "    - BatchNorm,\n",
    "    - Dropout, \n",
    "    - Early Stopping.\n",
    "    \n",
    "- multi-class output\n",
    "- Fashion MNIST dataset"
   ]
  },
  {
   "cell_type": "code",
   "execution_count": 4,
   "id": "ecc9c63c-2af8-4d44-9f88-0c896bf22721",
   "metadata": {},
   "outputs": [
    {
     "name": "stdout",
     "output_type": "stream",
     "text": [
      "Requirement already satisfied: torchsummary in c:\\users\\dai.studentsdc\\appdata\\local\\anaconda3\\lib\\site-packages (1.5.1)Note: you may need to restart the kernel to use updated packages.\n",
      "\n"
     ]
    }
   ],
   "source": [
    "pip install torchsummary"
   ]
  },
  {
   "cell_type": "code",
   "execution_count": 5,
   "id": "3d52e7d5",
   "metadata": {},
   "outputs": [],
   "source": [
    "###-----------------\n",
    "### Import Libraries\n",
    "###-----------------\n",
    "\n",
    "import os\n",
    "#import numpy as np\n",
    "import pandas as pd\n",
    "import sys\n",
    "import numpy as np\n",
    "from collections.abc import Callable\n",
    "from typing import Literal\n",
    "\n",
    "\n",
    "from sklearn.model_selection import train_test_split\n",
    "from sklearn.metrics import accuracy_score, classification_report, confusion_matrix, ConfusionMatrixDisplay\n",
    "from sklearn.preprocessing import StandardScaler\n",
    "import matplotlib.pyplot as plt\n",
    "\n",
    "\n",
    "import torch\n",
    "import torch.nn as nn\n",
    "import torch.nn.functional as F\n",
    "from torch.autograd import Variable\n",
    "from torch.utils.data import DataLoader, Dataset\n",
    "from torchsummary import summary\n",
    "parent_dir = os.path.abspath('..')\n",
    "sys.path.insert(0, parent_dir)\n",
    "from utils.helper import fn_plot_torch_hist, fn_plot_confusion_matrix"
   ]
  },
  {
   "cell_type": "code",
   "execution_count": 6,
   "id": "b32a9af9",
   "metadata": {},
   "outputs": [],
   "source": [
    "###-----------------\n",
    "### Global Variables\n",
    "###-----------------\n",
    "inpDir = os.path.join('..', 'input')\n",
    "outDir = '../output'\n",
    "modelDir = os.path.join('..', 'model')\n",
    "subDir = 'fashion_mnist'\n",
    "altName = 'A04_fashion_vanila'\n",
    "\n",
    "EPOCHS = 200\n",
    "ALPHA = .001\n",
    "TEST_SIZE = .2\n",
    "PATIENCE = 20\n",
    "LR_FACTOR = .2\n",
    "LR_PATIENCE = 5\n",
    "BATCH_SIZE = 256\n",
    "RANDOM_STATE = 24 # for initialization ----- REMEMBER: to remove at the time of promotion to production\n",
    "np.random.RandomState(RANDOM_STATE) # Set Random Seed for reproducible results\n",
    "torch.manual_seed(RANDOM_STATE) ######\n",
    "\n",
    "# parameters for Matplotlib\n",
    "params = {'legend.fontsize': 'large',\n",
    "          'figure.figsize': (15, 8),\n",
    "          'axes.labelsize': 'large',\n",
    "          'axes.titlesize':'x-large',\n",
    "          'xtick.labelsize':'large',\n",
    "          'ytick.labelsize':'large'\n",
    "         }\n",
    "\n",
    "CMAP = 'brg' # plt.cm.Spectral\n",
    "\n",
    "plt.rcParams.update(params)"
   ]
  },
  {
   "cell_type": "markdown",
   "id": "6863bade",
   "metadata": {},
   "source": [
    "## All about CUDA"
   ]
  },
  {
   "cell_type": "code",
   "execution_count": 8,
   "id": "a5863ec9",
   "metadata": {},
   "outputs": [],
   "source": [
    "# print ('Is CUDA available: ', torch.cuda.is_available())\n",
    "\n",
    "# print ('CUDA version: ', torch.version.cuda )\n",
    "\n",
    "# print ('Current Device ID: ', torch.cuda.current_device())\n",
    "\n",
    "# print ('Name of the CUDA device: ', torch.cuda.get_device_name(torch.cuda.current_device()))"
   ]
  },
  {
   "cell_type": "code",
   "execution_count": 9,
   "id": "cdff216a-a3b5-44a7-a291-fd117416a6ab",
   "metadata": {},
   "outputs": [],
   "source": [
    "# torch.cuda.get_device_name(torch.cuda.current_device()) # to se which gpu we are running"
   ]
  },
  {
   "cell_type": "code",
   "execution_count": 10,
   "id": "37809bf5",
   "metadata": {},
   "outputs": [
    {
     "name": "stdout",
     "output_type": "stream",
     "text": [
      "Using cpu device\n"
     ]
    }
   ],
   "source": [
    "# Get cpu or gpu device for training.\n",
    "\n",
    "device = \"cuda\" if torch.cuda.is_available() else \"cpu\"\n",
    "\n",
    "print(f\"Using {device} device\")"
   ]
  },
  {
   "cell_type": "code",
   "execution_count": 11,
   "id": "a2177d69",
   "metadata": {},
   "outputs": [],
   "source": [
    "train_filename = os.path.join(inpDir, 'fashion_mnist', 'fashion-mnist_train.csv')\n",
    "test_filename = os.path.join(inpDir, 'fashion_mnist', 'fashion-mnist_test.csv')\n",
    "\n",
    "train_df = pd.read_csv(train_filename, header = 0)\n",
    "test_df = pd.read_csv(test_filename, header = 0)"
   ]
  },
  {
   "cell_type": "code",
   "execution_count": 12,
   "id": "4d1ba840",
   "metadata": {
    "editable": true,
    "slideshow": {
     "slide_type": ""
    },
    "tags": []
   },
   "outputs": [],
   "source": [
    "class_names = {0: 'T-shirt/top',1:'Trouser',2:'Pullover',3:'Dress',4:'Coat',\n",
    "               5:'Sandal', 6: 'Shirt',7: 'Sneaker', 8:'Bag', 9: 'Ankle boot'}"
   ]
  },
  {
   "cell_type": "code",
   "execution_count": 13,
   "id": "460314b4-6556-416a-9c27-8633fad5e1fa",
   "metadata": {},
   "outputs": [],
   "source": [
    "train_df['label'] = pd.to_numeric(train_df['label'], downcast = 'integer')\n",
    "test_df['label'] = pd.to_numeric(test_df['label'], downcast = 'integer')\n",
    "X_train = train_df.drop('label', axis = 1).to_numpy()\n",
    "X_test = train_df.label\n",
    "\n",
    "X_train, X_test, y_train, y_test = train_test_split(X_train, X_test, test_size = TEST_SIZE, stratify = X_test, random_state = RANDOM_STATE)\n",
    "\n",
    "train_shape = X_train.shape"
   ]
  },
  {
   "cell_type": "code",
   "execution_count": 14,
   "id": "4f59623f-e3dd-4282-8126-bffc0293018c",
   "metadata": {},
   "outputs": [],
   "source": [
    "sc = StandardScaler()\n",
    "\n",
    "X_train = sc.fit_transform(X_train)\n",
    "X_test = sc.transform(X_test)"
   ]
  },
  {
   "cell_type": "markdown",
   "id": "ea8aa058-40cf-40fc-a297-1c7e328375f2",
   "metadata": {},
   "source": [
    "# custom datasets"
   ]
  },
  {
   "cell_type": "code",
   "execution_count": 16,
   "id": "0b431037-be4f-4bb2-a5fe-993601d9537d",
   "metadata": {},
   "outputs": [],
   "source": [
    "'''define custom dataset'''\n",
    "class AmnistDataset(Dataset):\n",
    "    def __init__(self, X, y):\n",
    "        super(AmnistDataset, self).__init__()\n",
    "        self.X = torch.tensor(X, dtype = torch.float32)\n",
    "        self.y = torch.tensor(y, dtype = torch.long)\n",
    "\n",
    "    def __len__(self):\n",
    "        return(len(self.X))\n",
    "\n",
    "    def __getitem__(self, idx):\n",
    "        return self.X[idx], self.y[idx]\n",
    "\n",
    "\n",
    "    \n",
    "    "
   ]
  },
  {
   "cell_type": "code",
   "execution_count": 17,
   "id": "e70b1640-c283-460e-a540-cdec10a57aec",
   "metadata": {},
   "outputs": [],
   "source": [
    "train_dataset = AmnistDataset(X_train, y_train)"
   ]
  },
  {
   "cell_type": "code",
   "execution_count": 18,
   "id": "c37697e0-38d1-46c1-8583-78bebcf41387",
   "metadata": {},
   "outputs": [],
   "source": [
    "train_loader =  DataLoader(dataset = train_dataset, # just like cache.prefectch which we used to feth mini batch in tensor\n",
    "                        shuffle =True,\n",
    "                        batch_size = BATCH_SIZE, )\n",
    "\n",
    "# X_batch, y_batch = next(iter(train_loader))\n",
    "# X_batch.shape, y_batch.shape"
   ]
  },
  {
   "cell_type": "code",
   "execution_count": 19,
   "id": "09a3debe-a477-4b44-ac67-948e2a579a56",
   "metadata": {},
   "outputs": [
    {
     "data": {
      "text/plain": [
       "(torch.Size([256, 784]), torch.Size([256]))"
      ]
     },
     "execution_count": 19,
     "metadata": {},
     "output_type": "execute_result"
    }
   ],
   "source": [
    "test_dataset = AmnistDataset(X_test, y_test.tolist())\n",
    "\n",
    "test_loader =  DataLoader(dataset = test_dataset,\n",
    "                        shuffle =True,\n",
    "                        batch_size = BATCH_SIZE, )\n",
    "\n",
    "X_batch, y_batch = next(iter(train_loader))\n",
    "X_batch.shape, y_batch.shape"
   ]
  },
  {
   "cell_type": "code",
   "execution_count": 20,
   "id": "0c4edc02-a090-4a34-8bea-82e18ece7a51",
   "metadata": {},
   "outputs": [
    {
     "data": {
      "text/plain": [
       "((48000, 784), (48000,))"
      ]
     },
     "execution_count": 20,
     "metadata": {},
     "output_type": "execute_result"
    }
   ],
   "source": [
    "X_train.shape, y_train.shape"
   ]
  },
  {
   "cell_type": "code",
   "execution_count": 21,
   "id": "87167b34-b0b8-4253-b46a-124bfa67c3fa",
   "metadata": {},
   "outputs": [],
   "source": [
    "## preparing model"
   ]
  },
  {
   "cell_type": "code",
   "execution_count": 22,
   "id": "daaa8566-6e79-4dd6-b643-bfef9e28e458",
   "metadata": {},
   "outputs": [
    {
     "data": {
      "text/plain": [
       "98.0"
      ]
     },
     "execution_count": 22,
     "metadata": {},
     "output_type": "execute_result"
    }
   ],
   "source": [
    "196/2"
   ]
  },
  {
   "cell_type": "code",
   "execution_count": 23,
   "id": "43dc5afe-4800-4474-b350-37e91407d271",
   "metadata": {},
   "outputs": [
    {
     "name": "stdout",
     "output_type": "stream",
     "text": [
      "Model(\n",
      "  (layer1): Linear(in_features=784, out_features=392, bias=True)\n",
      "  (bn1): BatchNorm1d(392, eps=1e-05, momentum=0.1, affine=True, track_running_stats=True)\n",
      "  (actv1): ReLU()\n",
      "  (do1): Dropout(p=0.2, inplace=False)\n",
      "  (layer2): Linear(in_features=392, out_features=196, bias=True)\n",
      "  (bn2): BatchNorm1d(196, eps=1e-05, momentum=0.1, affine=True, track_running_stats=True)\n",
      "  (actv2): ReLU()\n",
      "  (do2): Dropout(p=0.2, inplace=False)\n",
      "  (layer3): Linear(in_features=196, out_features=98, bias=True)\n",
      "  (bn3): BatchNorm1d(98, eps=1e-05, momentum=0.1, affine=True, track_running_stats=True)\n",
      "  (actv3): ReLU()\n",
      "  (do3): Dropout(p=0.4, inplace=False)\n",
      "  (layer4): Linear(in_features=98, out_features=49, bias=True)\n",
      "  (bn4): BatchNorm1d(49, eps=1e-05, momentum=0.1, affine=True, track_running_stats=True)\n",
      "  (actv4): ReLU()\n",
      "  (do4): Dropout(p=0.5, inplace=False)\n",
      "  (layer5): Linear(in_features=49, out_features=10, bias=True)\n",
      ")\n"
     ]
    }
   ],
   "source": [
    "input_dim = X_train.shape[1]\n",
    "\n",
    "class Model(nn.Module): #nn.Module is pytorch class, we are extending it\n",
    "    def __init__(self, input_dim):\n",
    "        super(Model, self).__init__() #callling parent class constructot\n",
    "        dor1= .2\n",
    "        dor2 = .2\n",
    "        dor3 = .4\n",
    "        dor4 = .5\n",
    "        self.layer1 = nn.Linear(input_dim, 392) # incoming layer = input_dim no of neurons outgoing layer =196 no of neurons\n",
    "        self.bn1 = nn.BatchNorm1d(392) # batchnorm1d for 1d arrays\n",
    "        self.actv1 = nn.ReLU() # activation_function\n",
    "        self.do1 = nn.Dropout(dor1) ## dropout layer\n",
    "        \n",
    "        self.layer2 = nn.Linear(392, 196)\n",
    "        self.bn2 = nn.BatchNorm1d(196) # batchnorm1d for 1d arrays\n",
    "        self.actv2 = nn.ReLU()\n",
    "        self.do2 = nn.Dropout(dor2) ## dropout layer\n",
    "\n",
    "        self.layer3 = nn.Linear(196, 98)\n",
    "        self.bn3 = nn.BatchNorm1d(98)\n",
    "        self.actv3 = nn.ReLU()\n",
    "        self.do3 = nn.Dropout(dor3)\n",
    "        \n",
    "        self.layer4 = nn.Linear(98, 49)\n",
    "        self.bn4 = nn.BatchNorm1d(49)\n",
    "        self.actv4 = nn.ReLU()\n",
    "        self.do4 = nn.Dropout(dor4)\n",
    "\n",
    "        self.layer5 = nn.Linear(49, 10)\n",
    "        \n",
    "\n",
    "    def forward(self, x): # forward propagation\n",
    "        x = self.layer1(x)\n",
    "        x = self.bn1(x)\n",
    "        x = self.actv1(x)\n",
    "        x = self.do1(x)\n",
    "        x = self.layer2(x)\n",
    "        x = self.bn2(x)\n",
    "        x = self.actv2(x)\n",
    "        x = self.do2(x)\n",
    "        x = self.layer3(x)\n",
    "        x = self.bn3(x)\n",
    "        x = self.actv3(x)\n",
    "        x = self.do3(x)\n",
    "        x = self.layer4(x)\n",
    "        x = self.bn4(x)\n",
    "        x = self.actv4(x)\n",
    "        x = self.do4(x)\n",
    "        x = self.layer5(x)\n",
    "        return x\n",
    "\n",
    "model = Model(input_dim).to(device = device)\n",
    "print(model)\n",
    "    \n",
    "\n",
    "\n",
    "\n",
    "# model = nn.Sequential(nn.Linear(input_dim, 196),\n",
    "#                       nn.ReLU(),\n",
    "#                       nn.Linear(196, 98),\n",
    "#                       nn.ReLU(),\n",
    "#                       nn.Linear(98, 10)).to(device = device)"
   ]
  },
  {
   "cell_type": "code",
   "execution_count": 24,
   "id": "8dd4c376-58fd-44f1-a89a-73c413166720",
   "metadata": {},
   "outputs": [
    {
     "name": "stdout",
     "output_type": "stream",
     "text": [
      "----------------------------------------------------------------\n",
      "        Layer (type)               Output Shape         Param #\n",
      "================================================================\n",
      "            Linear-1                  [-1, 392]         307,720\n",
      "       BatchNorm1d-2                  [-1, 392]             784\n",
      "              ReLU-3                  [-1, 392]               0\n",
      "           Dropout-4                  [-1, 392]               0\n",
      "            Linear-5                  [-1, 196]          77,028\n",
      "       BatchNorm1d-6                  [-1, 196]             392\n",
      "              ReLU-7                  [-1, 196]               0\n",
      "           Dropout-8                  [-1, 196]               0\n",
      "            Linear-9                   [-1, 98]          19,306\n",
      "      BatchNorm1d-10                   [-1, 98]             196\n",
      "             ReLU-11                   [-1, 98]               0\n",
      "          Dropout-12                   [-1, 98]               0\n",
      "           Linear-13                   [-1, 49]           4,851\n",
      "      BatchNorm1d-14                   [-1, 49]              98\n",
      "             ReLU-15                   [-1, 49]               0\n",
      "          Dropout-16                   [-1, 49]               0\n",
      "           Linear-17                   [-1, 10]             500\n",
      "================================================================\n",
      "Total params: 410,875\n",
      "Trainable params: 410,875\n",
      "Non-trainable params: 0\n",
      "----------------------------------------------------------------\n",
      "Input size (MB): 0.00\n",
      "Forward/backward pass size (MB): 0.02\n",
      "Params size (MB): 1.57\n",
      "Estimated Total Size (MB): 1.59\n",
      "----------------------------------------------------------------\n"
     ]
    }
   ],
   "source": [
    "summary(model, input_size=(input_dim,))\n",
    "# summary(model, (1,input"
   ]
  },
  {
   "cell_type": "code",
   "execution_count": 25,
   "id": "d006dcb9-9b1c-451d-9da0-bf68763eef74",
   "metadata": {},
   "outputs": [
    {
     "name": "stdout",
     "output_type": "stream",
     "text": [
      "torch.Size([392, 784])\n",
      "torch.Size([392])\n",
      "torch.Size([392])\n",
      "torch.Size([392])\n",
      "torch.Size([196, 392])\n",
      "torch.Size([196])\n",
      "torch.Size([196])\n",
      "torch.Size([196])\n",
      "torch.Size([98, 196])\n",
      "torch.Size([98])\n",
      "torch.Size([98])\n",
      "torch.Size([98])\n",
      "torch.Size([49, 98])\n",
      "torch.Size([49])\n",
      "torch.Size([49])\n",
      "torch.Size([49])\n",
      "torch.Size([10, 49])\n",
      "torch.Size([10])\n"
     ]
    }
   ],
   "source": [
    "for param in list(model.parameters()):\n",
    "    print(param.shape)"
   ]
  },
  {
   "cell_type": "code",
   "execution_count": 26,
   "id": "65333be1-e164-4ddf-98ee-8e4f10a539f5",
   "metadata": {},
   "outputs": [],
   "source": [
    "# [196, 784] weight shape for layer 1\n",
    "# similarly torch.Size([196]) : bias shape for layer 1 and so on "
   ]
  },
  {
   "cell_type": "code",
   "execution_count": 27,
   "id": "32214cf5-251a-4a54-aede-09c8082a0b9b",
   "metadata": {},
   "outputs": [],
   "source": [
    "train_X = torch.tensor(X_train, dtype = torch.float32, device = device)\n",
    "train_y = torch.tensor(y_train, dtype = torch.int64, device = device)\n",
    "\n",
    "\n",
    "test_X = torch.tensor(X_test, dtype = torch.float32, device = device)\n",
    "test_y = torch.tensor(y_test.tolist(), dtype = torch.int64, device = device)"
   ]
  },
  {
   "cell_type": "code",
   "execution_count": 28,
   "id": "b17b853e-8d82-423d-a694-be6e178aa25b",
   "metadata": {},
   "outputs": [
    {
     "name": "stdout",
     "output_type": "stream",
     "text": [
      "Loss improved from inf to 0.45628\n",
      "----------------------------------------------------------------------------------------------------------------------------------------------------\n",
      "Epoch     0 | Loss: 0.96995/0.45628 | ACC: 0.73186/0.84848\n",
      "LR: 0.00100\n",
      "----------------------------------------------------------------------------------------------------------------------------------------------------\n",
      "Loss improved from 0.45628 to 0.40808\n",
      "Loss improved from 0.40808 to 0.37580\n",
      "Loss improved from 0.37580 to 0.35905\n",
      "Loss improved from 0.35905 to 0.34414\n",
      "Loss improved from 0.34414 to 0.34069\n",
      "----------------------------------------------------------------------------------------------------------------------------------------------------\n",
      "Epoch     5 | Loss: 0.39374/0.34069 | ACC: 0.87668/0.87937\n",
      "LR: 0.00100\n",
      "----------------------------------------------------------------------------------------------------------------------------------------------------\n",
      "Loss did not improve from 0.34069. Current: 0.35327\n",
      "Loss improved from 0.34069 to 0.33778\n",
      "Loss improved from 0.33778 to 0.33277\n",
      "Loss improved from 0.33277 to 0.32551\n",
      "Loss improved from 0.32551 to 0.31781\n",
      "----------------------------------------------------------------------------------------------------------------------------------------------------\n",
      "Epoch    10 | Loss: 0.32253/0.31781 | ACC: 0.89702/0.89274\n",
      "LR: 0.00100\n",
      "----------------------------------------------------------------------------------------------------------------------------------------------------\n",
      "Loss did not improve from 0.31781. Current: 0.32752\n",
      "Loss did not improve from 0.31781. Current: 0.32119\n",
      "Loss did not improve from 0.31781. Current: 0.32292\n",
      "Loss did not improve from 0.31781. Current: 0.32578\n",
      "Loss improved from 0.31781 to 0.31729\n",
      "----------------------------------------------------------------------------------------------------------------------------------------------------\n",
      "Epoch    15 | Loss: 0.27992/0.31729 | ACC: 0.90854/0.89123\n",
      "LR: 0.00100\n",
      "----------------------------------------------------------------------------------------------------------------------------------------------------\n",
      "Loss did not improve from 0.31729. Current: 0.33746\n",
      "Loss did not improve from 0.31729. Current: 0.33342\n",
      "Loss did not improve from 0.31729. Current: 0.32205\n",
      "Loss did not improve from 0.31729. Current: 0.32190\n",
      "Loss did not improve from 0.31729. Current: 0.33612\n",
      "----------------------------------------------------------------------------------------------------------------------------------------------------\n",
      "Epoch    20 | Loss: 0.24480/0.33612 | ACC: 0.92038/0.89218\n",
      "LR: 0.00100\n",
      "----------------------------------------------------------------------------------------------------------------------------------------------------\n",
      "Loss did not improve from 0.31729. Current: 0.32814\n",
      "Loss improved from 0.31729 to 0.31508\n",
      "Loss did not improve from 0.31508. Current: 0.31597\n",
      "Loss did not improve from 0.31508. Current: 0.32272\n",
      "Loss did not improve from 0.31508. Current: 0.32402\n",
      "----------------------------------------------------------------------------------------------------------------------------------------------------\n",
      "Epoch    25 | Loss: 0.18230/0.32402 | ACC: 0.94068/0.90259\n",
      "LR: 0.00020\n",
      "----------------------------------------------------------------------------------------------------------------------------------------------------\n",
      "Loss did not improve from 0.31508. Current: 0.32101\n",
      "Loss did not improve from 0.31508. Current: 0.32233\n",
      "Loss did not improve from 0.31508. Current: 0.33337\n",
      "Loss did not improve from 0.31508. Current: 0.32779\n",
      "Loss did not improve from 0.31508. Current: 0.33164\n",
      "----------------------------------------------------------------------------------------------------------------------------------------------------\n",
      "Epoch    30 | Loss: 0.16331/0.33164 | ACC: 0.94843/0.90531\n",
      "LR: 0.00004\n",
      "----------------------------------------------------------------------------------------------------------------------------------------------------\n",
      "Loss did not improve from 0.31508. Current: 0.33254\n",
      "Loss did not improve from 0.31508. Current: 0.33277\n",
      "Loss did not improve from 0.31508. Current: 0.33417\n",
      "Loss did not improve from 0.31508. Current: 0.33231\n",
      "Loss did not improve from 0.31508. Current: 0.33142\n",
      "----------------------------------------------------------------------------------------------------------------------------------------------------\n",
      "Epoch    35 | Loss: 0.15225/0.33142 | ACC: 0.95202/0.90503\n",
      "LR: 0.00001\n",
      "----------------------------------------------------------------------------------------------------------------------------------------------------\n",
      "Loss did not improve from 0.31508. Current: 0.33390\n",
      "Loss did not improve from 0.31508. Current: 0.33728\n",
      "Loss did not improve from 0.31508. Current: 0.33319\n",
      "Loss did not improve from 0.31508. Current: 0.33324\n",
      "Loss did not improve from 0.31508. Current: 0.33601\n",
      "----------------------------------------------------------------------------------------------------------------------------------------------------\n",
      "Epoch    40 | Loss: 0.15355/0.33601 | ACC: 0.95071/0.90415\n",
      "LR: 0.00001\n",
      "----------------------------------------------------------------------------------------------------------------------------------------------------\n",
      "Loss did not improve from 0.31508. Current: 0.33748\n",
      "Loss did not improve from 0.31508. Current: 0.33600\n",
      "Early stopping triggered at epoch 43\n"
     ]
    }
   ],
   "source": [
    "loss_fn = nn.CrossEntropyLoss()\n",
    "\n",
    "optimizer = torch.optim.Adam(model.parameters(), lr = ALPHA)\n",
    "scheduler = torch.optim.lr_scheduler.ReduceLROnPlateau(optimizer, mode = 'min', factor = LR_FACTOR,\n",
    "                                                       patience = LR_PATIENCE,\n",
    "                                                       min_lr = 1e-5) # the min_lr parameter specifies the minimum learning rate the optimizer is allowed to use. This acts as a lower bound for the learning rate during the training process.\n",
    "\n",
    "chkptPath = os.path.join(modelDir, subDir, 'all_in_torch.pth')\n",
    "# loss = []\n",
    "loss, tloss, n_epoch, acc, tacc = [], [], [], [], []\n",
    "patience = 0\n",
    "miin = float('inf')\n",
    "\n",
    "for epoch in range(EPOCHS):\n",
    "    model.train()\n",
    "    epoch_acc, epoch_loss = 0, 0\n",
    "    for batch_idx, (train_X, train_y) in enumerate(train_loader):\n",
    "        train_X, train_y = train_X.to(device), train_y.to(device)\n",
    "        predict_proba = model(train_X)\n",
    "        batch_loss = loss_fn(predict_proba, train_y)\n",
    "        \n",
    "        # Update running mean for loss\n",
    "        epoch_loss += (batch_loss.item() - epoch_loss) / (batch_idx + 1)\n",
    "        \n",
    "        optimizer.zero_grad()\n",
    "        batch_loss.backward()\n",
    "        optimizer.step()\n",
    "        \n",
    "        y_pred = predict_proba.argmax(dim=1)\n",
    "        batch_acc = accuracy_score(train_y.cpu().numpy(), y_pred)\n",
    "        epoch_acc += (batch_acc - epoch_acc) / (batch_idx + 1)\n",
    "    \n",
    "    loss.append(epoch_loss)\n",
    "    acc.append(epoch_acc)\n",
    "    \n",
    "    model.eval()\n",
    "    tepoch_loss, tepoch_acc = 0, 0\n",
    "    with torch.no_grad():  # No gradients during validation\n",
    "        for batch_idx, (test_X, test_y) in enumerate(test_loader):\n",
    "            test_X, test_y = test_X.to(device), test_y.to(device)\n",
    "            test_proba = model(test_X)\n",
    "            batch_loss = loss_fn(test_proba, test_y)\n",
    "            tepoch_loss += (batch_loss.item() - tepoch_loss) / (batch_idx + 1)\n",
    "            \n",
    "            y_pred = test_proba.argmax(dim=1).cpu().numpy()\n",
    "            batch_acc = accuracy_score(test_y.cpu().numpy(), y_pred)\n",
    "            tepoch_acc += (batch_acc - tepoch_acc) / (batch_idx + 1)\n",
    "    \n",
    "    tacc.append(tepoch_acc)\n",
    "    tloss.append(tepoch_loss)\n",
    "    n_epoch.append(epoch)\n",
    "    \n",
    "    # Scheduler step\n",
    "    scheduler.step(tepoch_loss)\n",
    "    \n",
    "    # Early stopping\n",
    "    if tepoch_loss < miin:\n",
    "        print(f'Loss improved from {miin:.5f} to {tepoch_loss:.5f}')\n",
    "        miin = tepoch_loss\n",
    "        patience = 0 \n",
    "        torch.save(model.state_dict(), chkptPath)\n",
    "        \n",
    "    else:\n",
    "        patience += 1\n",
    "        print(f'Loss did not improve from {miin:.5f}. Current: {tepoch_loss:.5f}')\n",
    "        if patience == PATIENCE:\n",
    "            print(f\"Early stopping triggered at epoch {epoch + 1}\")\n",
    "            break\n",
    "    \n",
    "    if epoch % 5 == 0 or tepoch_loss < miin:\n",
    "        print(\"----------------------------------------------------------------------------------------------------------------------------------------------------\")\n",
    "        print(f'Epoch {epoch:>5d} | Loss: {epoch_loss:.5f}/{tepoch_loss:.5f} | ACC: {epoch_acc:.5f}/{tepoch_acc:.5f}')\n",
    "        print(f'LR: {scheduler.get_last_lr()[0]:.5f}')\n",
    "        print(\"----------------------------------------------------------------------------------------------------------------------------------------------------\")\n"
   ]
  },
  {
   "cell_type": "code",
   "execution_count": 29,
   "id": "587d9f8b-0293-4592-802a-4fdb0edd81ae",
   "metadata": {
    "scrolled": true
   },
   "outputs": [],
   "source": [
    "# loss_fn = nn.CrossEntropyLoss()\n",
    "\n",
    "# optimizer = torch.optim.Adam(model.parameters(), lr = ALPHA)\n",
    "# scheduler = torch.optim.lr_scheduler.ReduceLROnPlateau(optimizer, mode = 'min', factor = LR_FACTOR,\n",
    "#                                                        patience = LR_PATIENCE,\n",
    "#                                                        min_lr = 1e-5) # the min_lr parameter specifies the minimum learning rate the optimizer is allowed to use. This acts as a lower bound for the learning rate during the training process.\n",
    "\n",
    "\n",
    "# loss = []\n",
    "# tloss, n_epoch, acc, tacc = [],[],[],[]\n",
    "# patience = 0\n",
    "# miin = float('inf')\n",
    "\n",
    "# for epoch in range(EPOCHS):\n",
    "#     model.train() # set your model in train mode\n",
    "#     epoch_acc, epoch_loss, tepoch_loss, tepoch_acc = 0,0,0, 0\n",
    "#     for batch_idx, (train_X, train_y) in enumerate(train_loader): # doing mini batch \n",
    "#         train_X = train_X.to(device)\n",
    "#         train_y = train_y.to(device)\n",
    "#         predict_proba = model(train_X)\n",
    "#         batch_loss = loss_fn(predict_proba, train_y) # calculate loss\n",
    "#         epoch_loss += (batch_loss - epoch_loss)/(batch_idx + 1) # calculate runing mean or ---> average of all the batch losses till now is epoch loss\n",
    "    \n",
    "#         optimizer.zero_grad()\n",
    "#         batch_loss.backward()\n",
    "#         optimizer.step()\n",
    "#         y_pred = predict_proba.argmax(dim = 1)\n",
    "#         batch_acc = accuracy_score(train_y.cpu().numpy(), y_pred)\n",
    "#         epoch_acc += (batch_acc - epoch_acc) / (batch_idx + 1)\n",
    "\n",
    "    \n",
    "#     loss.append(epoch_loss.data.item())\n",
    "#     acc.append(epoch_acc)\n",
    "#     model.eval() # Set your model in eval mode\n",
    "#     for batch_idx, (test_X, test_y) in enumerate (test_loader):\n",
    "#         test_X, test_y= test_X.to(device), test_y.to(device)\n",
    "#         test_proba = model(test_X) # make prediction\n",
    "#         batch_loss = loss_fn (test_proba, test_y) # Calculate loss\n",
    "#         tepoch_loss +=(batch_loss - tepoch_loss)/(batch_idx+1) # Calculate running mean\n",
    "#         y_pred= test_proba.argmax(dim=1).cpu().numpy()\n",
    "#         batch_acc = accuracy_score(test_y.cpu().numpy(), y_pred)\n",
    "#         tepoch_acc += (batch_acc- tepoch_acc)/ (batch_idx+1) # Calculate running mean\n",
    "\n",
    "#     tacc.append(tepoch_acc)\n",
    "#     tloss.append(tepoch_loss.data.item())\n",
    "#     n_epoch.append(epoch)\n",
    "#     # LR Reudction strp\n",
    "#     scheduler.step(tepoch_loss) # write this after model.train() and model.eval() , scheduler takes a step keeping test loss in  mind\n",
    "\n",
    "\n",
    "\n",
    "#     # if epoch % 10 ==0:\n",
    "#     #     print(f'Epoch: {epoch:>5d} |Loss: {epoch_loss:.5f}/{tepoch_loss:.5f} | ACC: {epoch_acc: .5f}/{tepoch_acc: .5f}')\n",
    "#     #     print(f'Acc: {epoch_acc:.5f} | {tepoch_acc:.5f}')\n",
    "#     #     print(f'LR: {scheduler.get_last_lr()[0]:.5f}')\n",
    "\n",
    "\n",
    "#     if tepoch_loss < miin:\n",
    "#         print(f'loss improved from {miin} to {tepoch_loss}')\n",
    "#         miin = tepoch_loss\n",
    "#         patience = 0\n",
    "#         print('-------------------------------------------------------------------------------------------------------------------------------------------------------')\n",
    "#     else:\n",
    "#         patience += 1\n",
    "#         print(f'loss did not improve from {miin}. current:-  {tepoch_loss}')\n",
    "#         if patience == PATIENCE:\n",
    "#             break\n",
    "\n",
    "#     print(f'Epoch: {epoch:>5d} |Loss: {epoch_loss:.5f}/{tepoch_loss:.5f} | ACC: {epoch_acc: .5f}/{tepoch_acc: .5f}')\n",
    "#     print(f'Acc: {epoch_acc:.5f} | {tepoch_acc:.5f}')\n",
    "#     print(f'LR: {scheduler.get_last_lr()[0]:.5f}')"
   ]
  },
  {
   "cell_type": "code",
   "execution_count": 30,
   "id": "f86e37c7-1b5b-44a8-91c3-ecec17b5be8d",
   "metadata": {},
   "outputs": [
    {
     "data": {
      "text/html": [
       "<div>\n",
       "<style scoped>\n",
       "    .dataframe tbody tr th:only-of-type {\n",
       "        vertical-align: middle;\n",
       "    }\n",
       "\n",
       "    .dataframe tbody tr th {\n",
       "        vertical-align: top;\n",
       "    }\n",
       "\n",
       "    .dataframe thead th {\n",
       "        text-align: right;\n",
       "    }\n",
       "</style>\n",
       "<table border=\"1\" class=\"dataframe\">\n",
       "  <thead>\n",
       "    <tr style=\"text-align: right;\">\n",
       "      <th></th>\n",
       "      <th>epoch</th>\n",
       "      <th>loss</th>\n",
       "      <th>test_loss</th>\n",
       "      <th>acc</th>\n",
       "      <th>test_Acc</th>\n",
       "    </tr>\n",
       "  </thead>\n",
       "  <tbody>\n",
       "    <tr>\n",
       "      <th>0</th>\n",
       "      <td>0</td>\n",
       "      <td>0.969951</td>\n",
       "      <td>0.456281</td>\n",
       "      <td>0.731861</td>\n",
       "      <td>0.848475</td>\n",
       "    </tr>\n",
       "    <tr>\n",
       "      <th>1</th>\n",
       "      <td>1</td>\n",
       "      <td>0.559665</td>\n",
       "      <td>0.408079</td>\n",
       "      <td>0.832800</td>\n",
       "      <td>0.856727</td>\n",
       "    </tr>\n",
       "    <tr>\n",
       "      <th>2</th>\n",
       "      <td>2</td>\n",
       "      <td>0.484767</td>\n",
       "      <td>0.375802</td>\n",
       "      <td>0.849921</td>\n",
       "      <td>0.870536</td>\n",
       "    </tr>\n",
       "    <tr>\n",
       "      <th>3</th>\n",
       "      <td>3</td>\n",
       "      <td>0.451868</td>\n",
       "      <td>0.359048</td>\n",
       "      <td>0.862159</td>\n",
       "      <td>0.876009</td>\n",
       "    </tr>\n",
       "    <tr>\n",
       "      <th>4</th>\n",
       "      <td>4</td>\n",
       "      <td>0.419866</td>\n",
       "      <td>0.344141</td>\n",
       "      <td>0.867832</td>\n",
       "      <td>0.879298</td>\n",
       "    </tr>\n",
       "  </tbody>\n",
       "</table>\n",
       "</div>"
      ],
      "text/plain": [
       "   epoch      loss  test_loss       acc  test_Acc\n",
       "0      0  0.969951   0.456281  0.731861  0.848475\n",
       "1      1  0.559665   0.408079  0.832800  0.856727\n",
       "2      2  0.484767   0.375802  0.849921  0.870536\n",
       "3      3  0.451868   0.359048  0.862159  0.876009\n",
       "4      4  0.419866   0.344141  0.867832  0.879298"
      ]
     },
     "execution_count": 30,
     "metadata": {},
     "output_type": "execute_result"
    }
   ],
   "source": [
    "loss_df = pd.DataFrame({'epoch': n_epoch,\n",
    "                        'loss': loss,\n",
    "                        'test_loss' : tloss,\n",
    "                        'acc' : acc,\n",
    "                        'test_Acc': tacc})\n",
    "loss_df.head()"
   ]
  },
  {
   "cell_type": "code",
   "execution_count": 31,
   "id": "9f158e81-41a4-4cc7-9e4c-2a9a6a490e07",
   "metadata": {},
   "outputs": [
    {
     "data": {
      "image/png": "[encoded data removed]",
      "text/plain": [
       "<Figure size 1500x600 with 2 Axes>"
      ]
     },
     "metadata": {},
     "output_type": "display_data"
    }
   ],
   "source": [
    "fn_plot_torch_hist(loss_df)"
   ]
  },
  {
   "cell_type": "code",
   "execution_count": 32,
   "id": "ec8e6ec4-3a4d-47fd-aa3e-8b48ffc46e02",
   "metadata": {},
   "outputs": [
    {
     "data": {
      "text/plain": [
       "<All keys matched successfully>"
      ]
     },
     "execution_count": 32,
     "metadata": {},
     "output_type": "execute_result"
    }
   ],
   "source": [
    "outputs = model.load_state_dict(torch.load(chkptPath, weights_only=True))\n",
    "outputs"
   ]
  },
  {
   "cell_type": "code",
   "execution_count": 33,
   "id": "8eed1dd6-6617-4d35-a91f-82a335146d94",
   "metadata": {},
   "outputs": [
    {
     "ename": "TypeError",
     "evalue": "'_IncompatibleKeys' object is not callable",
     "output_type": "error",
     "traceback": [
      "\u001b[1;31m---------------------------------------------------------------------------\u001b[0m",
      "\u001b[1;31mTypeError\u001b[0m                                 Traceback (most recent call last)",
      "Cell \u001b[1;32mIn[33], line 1\u001b[0m\n\u001b[1;32m----> 1\u001b[0m \u001b[43moutputs\u001b[49m\u001b[43m(\u001b[49m\u001b[43mtest_y\u001b[49m\u001b[43m)\u001b[49m\n",
      "\u001b[1;31mTypeError\u001b[0m: '_IncompatibleKeys' object is not callable"
     ]
    }
   ],
   "source": [
    "outputs(test_y)"
   ]
  },
  {
   "cell_type": "code",
   "execution_count": null,
   "id": "6c9f6d02-3dbc-4476-a410-7ff180bc58c6",
   "metadata": {
    "scrolled": true
   },
   "outputs": [],
   "source": [
    "type(outputs.cpu()) #.cpu() to bring it to cpu our is already on cpu"
   ]
  },
  {
   "cell_type": "code",
   "execution_count": null,
   "id": "313e2733-f49e-4020-8ca5-01298625aeea",
   "metadata": {},
   "outputs": [],
   "source": [
    "type(outputs.cpu().detach().numpy()) # did detach to detach from transformation : grad_fn=<AddmmBackward0>)\n",
    " # This means that the tensor is treated as a constant and no gradients will be calculated for it during backpropagation."
   ]
  },
  {
   "cell_type": "code",
   "execution_count": null,
   "id": "a69a2cc8-68f1-403c-884b-3b91e7f61eef",
   "metadata": {},
   "outputs": [],
   "source": [
    "y_pred = []"
   ]
  },
  {
   "cell_type": "code",
   "execution_count": null,
   "id": "d30da3a3-d668-41ca-a481-66169366b28f",
   "metadata": {},
   "outputs": [],
   "source": [
    "for batch_idx, (test_X, test_y) in enumerate(test_loader):\n",
    "    \n",
    "    y_pred.extend(torch.argmax(outputs, dim = 1).list())"
   ]
  },
  {
   "cell_type": "code",
   "execution_count": null,
   "id": "919c0ac3-16da-4984-9dae-40bc8d7ff061",
   "metadata": {
    "scrolled": true
   },
   "outputs": [],
   "source": [
    "# outputs = model(train_X)\n",
    "y_pred = torch.argmax(outputs, dim = 1).list()\n",
    "y_pred"
   ]
  },
  {
   "cell_type": "code",
   "execution_count": null,
   "id": "ae4d7f23-4b0f-4e0a-81f1-619e47bf66b6",
   "metadata": {},
   "outputs": [],
   "source": []
  },
  {
   "cell_type": "code",
   "execution_count": null,
   "id": "e437318c-0a2c-4a99-a01c-b92befab0718",
   "metadata": {
    "scrolled": true
   },
   "outputs": [],
   "source": [
    "y_true= train_y.numpy()\n",
    "print(classification_report(y_true, y_pred))"
   ]
  },
  {
   "cell_type": "code",
   "execution_count": null,
   "id": "0ef4754a-7ca6-4638-a4fb-677bbd74feca",
   "metadata": {},
   "outputs": [],
   "source": [
    "cm = confusion_matrix(y_true, y_pred)\n",
    "disp = ConfusionMatrixDisplay(cm, display_labels = class_names.values())\n",
    "disp.plot(cmap = 'Blues', xticks_rotation = 'vertical', colorbar = False)\n",
    "plt.grid(False)"
   ]
  },
  {
   "cell_type": "markdown",
   "id": "b0db8cca-0097-43b7-89e2-453d35318f83",
   "metadata": {},
   "source": [
    "### on test data"
   ]
  },
  {
   "cell_type": "code",
   "execution_count": null,
   "id": "1dbdde13-af13-482d-aec3-ef499362e53d",
   "metadata": {},
   "outputs": [],
   "source": [
    "outputs = model(test_X)\n",
    "outputs"
   ]
  },
  {
   "cell_type": "code",
   "execution_count": null,
   "id": "4f1430e4-9677-4ded-9663-05257058d7e1",
   "metadata": {
    "scrolled": true
   },
   "outputs": [],
   "source": [
    "type(outputs.cpu()) #.cpu() to bring it to cpu our is already on cpu"
   ]
  },
  {
   "cell_type": "code",
   "execution_count": null,
   "id": "92fb6a9b-f3d6-4bb5-9f94-3ba1eab2965a",
   "metadata": {},
   "outputs": [],
   "source": [
    "type(outputs.cpu().detach().numpy()) # did detach to detach from transformation : grad_fn=<AddmmBackward0>)\n",
    " # This means that the tensor is treated as a constant and no gradients will be calculated for it during backpropagation."
   ]
  },
  {
   "cell_type": "code",
   "execution_count": null,
   "id": "39906964-d2fe-441f-b058-586ed800a70f",
   "metadata": {},
   "outputs": [],
   "source": [
    "# outputs = model(train_X)\n",
    "y_pred = torch.argmax(outputs, dim = 1).numpy()\n",
    "y_pred"
   ]
  },
  {
   "cell_type": "code",
   "execution_count": null,
   "id": "e0533f85-e0ce-42ee-8946-53630935b4c0",
   "metadata": {},
   "outputs": [],
   "source": []
  },
  {
   "cell_type": "code",
   "execution_count": null,
   "id": "088da043-b2cb-4d4b-82f1-af1eb4f865db",
   "metadata": {},
   "outputs": [],
   "source": [
    "outputs = model(test_X)\n",
    "outputs"
   ]
  },
  {
   "cell_type": "code",
   "execution_count": null,
   "id": "2014d515-f8f7-4d5b-b138-7f422ac3dd4b",
   "metadata": {
    "scrolled": true
   },
   "outputs": [],
   "source": [
    "type(outputs.cpu()) #.cpu() to bring it to cpu our is already on cpu"
   ]
  },
  {
   "cell_type": "code",
   "execution_count": null,
   "id": "0bd46b22-53de-45da-8bb0-c3b6f82e11ba",
   "metadata": {},
   "outputs": [],
   "source": [
    "type(outputs.cpu().detach().numpy()) # did detach to detach from transformation : grad_fn=<AddmmBackward0>)\n",
    " # This means that the tensor is treated as a constant and no gradients will be calculated for it during backpropagation."
   ]
  },
  {
   "cell_type": "code",
   "execution_count": null,
   "id": "8be63191-d927-4fb3-87da-fc7e92c5fef3",
   "metadata": {},
   "outputs": [],
   "source": [
    "# outputs = model(train_X)\n",
    "y_pred = torch.argmax(outputs, dim = 1).numpy()\n",
    "y_pred"
   ]
  },
  {
   "cell_type": "code",
   "execution_count": null,
   "id": "e259cafc-c258-44d5-95a9-e25e968f6575",
   "metadata": {},
   "outputs": [],
   "source": []
  },
  {
   "cell_type": "code",
   "execution_count": null,
   "id": "064a27af-ccd5-494e-a285-2dba438c452e",
   "metadata": {},
   "outputs": [],
   "source": [
    "y_true= test_y.numpy()\n",
    "print(classification_report(y_true, y_pred))"
   ]
  },
  {
   "cell_type": "code",
   "execution_count": null,
   "id": "7820ea0d-55f5-40aa-8762-2f8ccd7ebc28",
   "metadata": {},
   "outputs": [],
   "source": [
    "cm = confusion_matrix(y_true, y_pred)\n",
    "disp = ConfusionMatrixDisplay(cm, display_labels = class_names.values())\n",
    "disp.plot(cmap = 'Blues', xticks_rotation = 'vertical', colorbar = False)\n",
    "plt.grid(False)"
   ]
  },
  {
   "cell_type": "code",
   "execution_count": null,
   "id": "2e9e2eb2-5917-4675-9a74-99c2d0979c8c",
   "metadata": {},
   "outputs": [],
   "source": []
  },
  {
   "cell_type": "code",
   "execution_count": null,
   "id": "d06771bd-7a89-43ad-a650-53012cd3b86b",
   "metadata": {},
   "outputs": [],
   "source": []
  }
 ],
 "metadata": {
  "kernelspec": {
   "display_name": "Python 3 (ipykernel)",
   "language": "python",
   "name": "python3"
  },
  "language_info": {
   "codemirror_mode": {
    "name": "ipython",
    "version": 3
   },
   "file_extension": ".py",
   "mimetype": "text/x-python",
   "name": "python",
   "nbconvert_exporter": "python",
   "pygments_lexer": "ipython3",
   "version": "3.12.3"
  }
 },
 "nbformat": 4,
 "nbformat_minor": 5
}
